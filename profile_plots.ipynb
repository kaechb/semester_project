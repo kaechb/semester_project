{
 "cells": [
  {
   "cell_type": "code",
   "execution_count": 49,
   "metadata": {
    "collapsed": true
   },
   "outputs": [],
   "source": [
    "import numpy as np\n",
    "import pandas as pd\n",
    "import matplotlib.pyplot as plt\n",
    "import probfit\n",
    "import iminuit\n",
    "from scipy.stats import norm\n",
    "\n",
    "from probfit import UnbinnedLH\n",
    "from probfit import gaussian\n",
    "from iminuit import Minuit\n",
    "\n"
   ]
  },
  {
   "cell_type": "code",
   "execution_count": 2,
   "metadata": {
    "collapsed": false
   },
   "outputs": [
    {
     "name": "stdout",
     "output_type": "stream",
     "text": [
      "Opening /mnt/t3nfs01/data01/shome/micheli/energyRegProject_20180223/CMSSW_8_0_4/src/RegressionTraining/applyRegression/ntuples_NN/Ntup_10Nov_Photon_testing.hd5 in read-only mode\n",
      "finished\n"
     ]
    }
   ],
   "source": [
    "original_df=pd.read_hdf(\"/mnt/t3nfs01/data01/shome/micheli/energyRegProject_20180223/CMSSW_8_0_4/src/RegressionTraining/applyRegression/ntuples_NN/Ntup_10Nov_Photon_testing.hd5\")\n",
    "#original_df_EE=pd.read_hdf(\"/mnt/t3nfs01/data01/shome/micheli/energyRegProject_20180223/CMSSW_8_0_4/src/RegressionTraining/applyRegression/ntuples_NN_EE/Ntup_10Nov_Photon_testing_EE.hd5\")\n",
    "print(\"finished\")"
   ]
  },
  {
   "cell_type": "code",
   "execution_count": 81,
   "metadata": {
    "collapsed": true
   },
   "outputs": [],
   "source": [
    "column='pt'\n",
    "lower_bound=0.8\n",
    "upper_bound=1.2\n",
    "\n",
    "df=original_df.copy()\n",
    "df=df[df['response']>lower_bound]\n",
    "df=df[df['response']<upper_bound]\n",
    "df.loc[:,'response']=np.reciprocal(df.loc[:,'response'].values) #invert response\n",
    "df=df[np.abs(df[column]-df[column].median()) <= (2*df[column].std())]#outlier detection"
   ]
  },
  {
   "cell_type": "code",
   "execution_count": 82,
   "metadata": {
    "collapsed": false
   },
   "outputs": [],
   "source": [
    "x_plot=[]\n",
    "y_plot=[]\n",
    "y_err=[]\n",
    "y_err_fit=[]\n",
    "y_err_sigma=[]\n",
    "notused,bins=pd.cut(df[column],30,retbins=True)#todo: Add errors in histogramm and ratio sqrt(entries)"
   ]
  },
  {
   "cell_type": "code",
   "execution_count": 109,
   "metadata": {
    "collapsed": false
   },
   "outputs": [],
   "source": [
    "def gauss(data,xmin,xmax,mu ,std):\n",
    "\n",
    "# Plot the PDF.\n",
    "    plt.hist(data,bins=100,normed=1)\n",
    "    x = np.linspace(xmin, xmax, 100)\n",
    "    p = norm.pdf(x, mu, std)\n",
    "    plt.plot(x, p, 'r', linewidth=2)\n",
    "    title = \"Fit results: mu = %.2f,  std = %.2f\" % (mu, std)\n",
    "    plt.title(title)\n",
    "    plt.show()\n"
   ]
  },
  {
   "cell_type": "code",
   "execution_count": 114,
   "metadata": {
    "collapsed": false,
    "scrolled": true
   },
   "outputs": [
    {
     "name": "stdout",
     "output_type": "stream",
     "text": [
      "(0.9934019006524398, 0.007452988892439811)\n"
     ]
    },
    {
     "data": {
      "image/png": "[encoded data removed]",
      "text/plain": [
       "<matplotlib.figure.Figure at 0x7fcc70437610>"
      ]
     },
     "metadata": {},
     "output_type": "display_data"
    },
    {
     "name": "stderr",
     "output_type": "stream",
     "text": [
      "/mnt/t3nfs01/data01/swshare/anaconda/lib/python2.7/site-packages/ipykernel/__main__.py:34: LogWarning: x is really small return 0\n"
     ]
    },
    {
     "data": {
      "text/html": [
       "<hr>"
      ]
     },
     "metadata": {},
     "output_type": "display_data"
    },
    {
     "data": {
      "text/html": [
       "<table>\n",
       "    <tr>\n",
       "        <td title=\"Minimum value of function\">FCN = 71085.8314122</td>\n",
       "        <td title=\"Total number of call to FCN so far\">TOTAL NCALL = 16</td>\n",
       "        <td title=\"Number of call in last migrad\">NCALLS = 16</td>\n",
       "    </tr>\n",
       "    <tr>\n",
       "        <td title=\"Estimated distance to minimum\">EDM = 3.7101555231e-05</td>\n",
       "        <td title=\"Maximum EDM definition of convergence\">GOAL EDM = 5e-06</td>\n",
       "        <td title=\"Error def. Amount of increase in FCN to be defined as 1 standard deviation\">\n",
       "        UP = 0.5</td>\n",
       "    </tr>\n",
       "</table>\n",
       "<table>\n",
       "    <tr>\n",
       "        <td align=\"center\" title=\"Validity of the migrad call\">Valid</td>\n",
       "        <td align=\"center\" title=\"Validity of parameters\">Valid Param</td>\n",
       "        <td align=\"center\" title=\"Is Covariance matrix accurate?\">Accurate Covar</td>\n",
       "        <td align=\"center\" title=\"Positive definiteness of covariance matrix\">PosDef</td>\n",
       "        <td align=\"center\" title=\"Was covariance matrix made posdef by adding diagonal element\">Made PosDef</td>\n",
       "    </tr>\n",
       "    <tr>\n",
       "        <td align=\"center\" style=\"background-color:#92CCA6\">True</td>\n",
       "        <td align=\"center\" style=\"background-color:#92CCA6\">True</td>\n",
       "        <td align=\"center\" style=\"background-color:#92CCA6\">True</td>\n",
       "        <td align=\"center\" style=\"background-color:#92CCA6\">True</td>\n",
       "        <td align=\"center\" style=\"background-color:#92CCA6\">False</td>\n",
       "    </tr>\n",
       "    <tr>\n",
       "        <td align=\"center\" title=\"Was last hesse call fail?\">Hesse Fail</td>\n",
       "        <td align=\"center\" title=\"Validity of covariance\">HasCov</td>\n",
       "        <td align=\"center\" title=\"Is EDM above goal EDM?\">Above EDM</td>\n",
       "        <td align=\"center\"></td>\n",
       "        <td align=\"center\" title=\"Did last migrad call reach max call limit?\">Reach calllim</td>\n",
       "    </tr>\n",
       "    <tr>\n",
       "        <td align=\"center\" style=\"background-color:#92CCA6\">False</td>\n",
       "        <td align=\"center\" style=\"background-color:#92CCA6\">True</td>\n",
       "        <td align=\"center\" style=\"background-color:#92CCA6\">False</td>\n",
       "        <td align=\"center\"></td>\n",
       "        <td align=\"center\" style=\"background-color:#92CCA6\">False</td>\n",
       "    </tr>\n",
       "</table>"
      ]
     },
     "metadata": {},
     "output_type": "display_data"
    },
    {
     "data": {
      "text/html": [
       "<table>\n",
       "    <tr>\n",
       "        <td><a href=\"#\" onclick=\"$('#ZMprtsjPDT').toggle()\">+</a></td>\n",
       "        <td title=\"Variable name\">Name</td>\n",
       "        <td title=\"Value of parameter\">Value</td>\n",
       "        <td title=\"Hesse error\">Hesse Error</td>\n",
       "        <td title=\"Minos lower error\">Minos Error-</td>\n",
       "        <td title=\"Minos upper error\">Minos Error+</td>\n",
       "        <td title=\"Lower limit of the parameter\">Limit-</td>\n",
       "        <td title=\"Upper limit of the parameter\">Limit+</td>\n",
       "        <td title=\"Is the parameter fixed in the fit\">Fixed?</td>\n",
       "    </tr>\n",
       "    <tr>\n",
       "        <td>0</td>\n",
       "        <td>alpha</td>\n",
       "        <td>0.533878</td>\n",
       "        <td>0.000675518</td>\n",
       "        <td></td>\n",
       "        <td></td>\n",
       "        <td>0.3</td>\n",
       "        <td>0.9</td>\n",
       "        <td>No</td>\n",
       "    </tr>\n",
       "    <tr>\n",
       "        <td>1</td>\n",
       "        <td>n</td>\n",
       "        <td>3</td>\n",
       "        <td>0.1</td>\n",
       "        <td></td>\n",
       "        <td></td>\n",
       "        <td></td>\n",
       "        <td></td>\n",
       "        <td>Yes</td>\n",
       "    </tr>\n",
       "    <tr>\n",
       "        <td>2</td>\n",
       "        <td>mean</td>\n",
       "        <td>0.993402</td>\n",
       "        <td>0.01</td>\n",
       "        <td></td>\n",
       "        <td></td>\n",
       "        <td>0.9</td>\n",
       "        <td>1.05</td>\n",
       "        <td>Yes</td>\n",
       "    </tr>\n",
       "    <tr>\n",
       "        <td>3</td>\n",
       "        <td>sigma</td>\n",
       "        <td>0.00745299</td>\n",
       "        <td>1</td>\n",
       "        <td></td>\n",
       "        <td></td>\n",
       "        <td>0.001</td>\n",
       "        <td>0.091</td>\n",
       "        <td>Yes</td>\n",
       "    </tr>\n",
       "</table>\n",
       "<pre id=\"ZMprtsjPDT\" style=\"display:none;\">\n",
       "<textarea rows=\"14\" cols=\"50\" onclick=\"this.select()\" readonly>\n",
       "\\begin{tabular}{|c|r|r|r|r|r|r|r|c|}\n",
       "\\hline\n",
       " & Name & Value & Hesse Error & Minos Error- & Minos Error+ & Limit- & Limit+ & Fixed?\\\\\n",
       "\\hline\n",
       "0 & $\\alpha$ & 0.533878 & 0.000675518 &  &  & 0.3 & 0.9 & No\\\\\n",
       "\\hline\n",
       "1 & n & 3 & 0.1 &  &  &  &  & Yes\\\\\n",
       "\\hline\n",
       "2 & mean & 0.993402 & 0.01 &  &  & 0.9 & 1.05 & Yes\\\\\n",
       "\\hline\n",
       "3 & $\\sigma$ & 0.00745299 & 1 &  &  & 0.001 & 0.091 & Yes\\\\\n",
       "\\hline\n",
       "\\end{tabular}\n",
       "</textarea>\n",
       "</pre>"
      ]
     },
     "metadata": {},
     "output_type": "display_data"
    },
    {
     "data": {
      "text/html": [
       "<hr>"
      ]
     },
     "metadata": {},
     "output_type": "display_data"
    },
    {
     "name": "stderr",
     "output_type": "stream",
     "text": [
      "/mnt/t3nfs01/data01/swshare/anaconda/lib/python2.7/site-packages/ipykernel/__main__.py:38: InitialParamWarning: Parameter alpha is floating but does not have initial step size. Assume 1.\n",
      "/mnt/t3nfs01/data01/swshare/anaconda/lib/python2.7/site-packages/ipykernel/__main__.py:38: InitialParamWarning: Parameter n is floating but does not have initial step size. Assume 1.\n",
      "/mnt/t3nfs01/data01/swshare/anaconda/lib/python2.7/site-packages/ipykernel/__main__.py:38: InitialParamWarning: Parameter mean is floating but does not have initial step size. Assume 1.\n",
      "/mnt/t3nfs01/data01/swshare/anaconda/lib/python2.7/site-packages/ipykernel/__main__.py:39: LogWarning: x is really small return 0\n",
      "Exception ZeroDivisionError: 'float division' in 'probfit._libstat.xlogyx' ignored\n",
      "Exception ZeroDivisionError: 'float division' in 'probfit._libstat.xlogyx' ignored\n",
      "Exception ZeroDivisionError: 'float division' in 'probfit._libstat.xlogyx' ignored\n",
      "Exception ZeroDivisionError: 'float division' in 'probfit._libstat.xlogyx' ignored\n",
      "Exception ZeroDivisionError: 'float division' in 'probfit._libstat.xlogyx' ignored\n"
     ]
    },
    {
     "data": {
      "text/html": [
       "<hr>"
      ]
     },
     "metadata": {},
     "output_type": "display_data"
    },
    {
     "data": {
      "text/html": [
       "<table>\n",
       "    <tr>\n",
       "        <td title=\"Minimum value of function\">FCN = 38300.4828811</td>\n",
       "        <td title=\"Total number of call to FCN so far\">TOTAL NCALL = 193</td>\n",
       "        <td title=\"Number of call in last migrad\">NCALLS = 193</td>\n",
       "    </tr>\n",
       "    <tr>\n",
       "        <td title=\"Estimated distance to minimum\">EDM = 1.57067838857e-06</td>\n",
       "        <td title=\"Maximum EDM definition of convergence\">GOAL EDM = 5e-06</td>\n",
       "        <td title=\"Error def. Amount of increase in FCN to be defined as 1 standard deviation\">\n",
       "        UP = 0.5</td>\n",
       "    </tr>\n",
       "</table>\n",
       "<table>\n",
       "    <tr>\n",
       "        <td align=\"center\" title=\"Validity of the migrad call\">Valid</td>\n",
       "        <td align=\"center\" title=\"Validity of parameters\">Valid Param</td>\n",
       "        <td align=\"center\" title=\"Is Covariance matrix accurate?\">Accurate Covar</td>\n",
       "        <td align=\"center\" title=\"Positive definiteness of covariance matrix\">PosDef</td>\n",
       "        <td align=\"center\" title=\"Was covariance matrix made posdef by adding diagonal element\">Made PosDef</td>\n",
       "    </tr>\n",
       "    <tr>\n",
       "        <td align=\"center\" style=\"background-color:#92CCA6\">True</td>\n",
       "        <td align=\"center\" style=\"background-color:#92CCA6\">True</td>\n",
       "        <td align=\"center\" style=\"background-color:#92CCA6\">True</td>\n",
       "        <td align=\"center\" style=\"background-color:#92CCA6\">True</td>\n",
       "        <td align=\"center\" style=\"background-color:#92CCA6\">False</td>\n",
       "    </tr>\n",
       "    <tr>\n",
       "        <td align=\"center\" title=\"Was last hesse call fail?\">Hesse Fail</td>\n",
       "        <td align=\"center\" title=\"Validity of covariance\">HasCov</td>\n",
       "        <td align=\"center\" title=\"Is EDM above goal EDM?\">Above EDM</td>\n",
       "        <td align=\"center\"></td>\n",
       "        <td align=\"center\" title=\"Did last migrad call reach max call limit?\">Reach calllim</td>\n",
       "    </tr>\n",
       "    <tr>\n",
       "        <td align=\"center\" style=\"background-color:#92CCA6\">False</td>\n",
       "        <td align=\"center\" style=\"background-color:#92CCA6\">True</td>\n",
       "        <td align=\"center\" style=\"background-color:#92CCA6\">False</td>\n",
       "        <td align=\"center\"></td>\n",
       "        <td align=\"center\" style=\"background-color:#92CCA6\">False</td>\n",
       "    </tr>\n",
       "</table>"
      ]
     },
     "metadata": {},
     "output_type": "display_data"
    },
    {
     "data": {
      "text/html": [
       "<table>\n",
       "    <tr>\n",
       "        <td><a href=\"#\" onclick=\"$('#gXdzCZlNgK').toggle()\">+</a></td>\n",
       "        <td title=\"Variable name\">Name</td>\n",
       "        <td title=\"Value of parameter\">Value</td>\n",
       "        <td title=\"Hesse error\">Hesse Error</td>\n",
       "        <td title=\"Minos lower error\">Minos Error-</td>\n",
       "        <td title=\"Minos upper error\">Minos Error+</td>\n",
       "        <td title=\"Lower limit of the parameter\">Limit-</td>\n",
       "        <td title=\"Upper limit of the parameter\">Limit+</td>\n",
       "        <td title=\"Is the parameter fixed in the fit\">Fixed?</td>\n",
       "    </tr>\n",
       "    <tr>\n",
       "        <td>0</td>\n",
       "        <td>alpha</td>\n",
       "        <td>0.302965</td>\n",
       "        <td>0.000823361</td>\n",
       "        <td></td>\n",
       "        <td></td>\n",
       "        <td></td>\n",
       "        <td></td>\n",
       "        <td>No</td>\n",
       "    </tr>\n",
       "    <tr>\n",
       "        <td>1</td>\n",
       "        <td>n</td>\n",
       "        <td>20.4217</td>\n",
       "        <td>0.584895</td>\n",
       "        <td></td>\n",
       "        <td></td>\n",
       "        <td></td>\n",
       "        <td></td>\n",
       "        <td>No</td>\n",
       "    </tr>\n",
       "    <tr>\n",
       "        <td>2</td>\n",
       "        <td>mean</td>\n",
       "        <td>0.996854</td>\n",
       "        <td>1.5758e-05</td>\n",
       "        <td></td>\n",
       "        <td></td>\n",
       "        <td></td>\n",
       "        <td></td>\n",
       "        <td>No</td>\n",
       "    </tr>\n",
       "    <tr>\n",
       "        <td>3</td>\n",
       "        <td>sigma</td>\n",
       "        <td>0.00745299</td>\n",
       "        <td>1</td>\n",
       "        <td></td>\n",
       "        <td></td>\n",
       "        <td></td>\n",
       "        <td></td>\n",
       "        <td>Yes</td>\n",
       "    </tr>\n",
       "</table>\n",
       "<pre id=\"gXdzCZlNgK\" style=\"display:none;\">\n",
       "<textarea rows=\"14\" cols=\"50\" onclick=\"this.select()\" readonly>\n",
       "\\begin{tabular}{|c|r|r|r|r|r|r|r|c|}\n",
       "\\hline\n",
       " & Name & Value & Hesse Error & Minos Error- & Minos Error+ & Limit- & Limit+ & Fixed?\\\\\n",
       "\\hline\n",
       "0 & $\\alpha$ & 0.302965 & 0.000823361 &  &  &  &  & No\\\\\n",
       "\\hline\n",
       "1 & n & 20.4217 & 0.584895 &  &  &  &  & No\\\\\n",
       "\\hline\n",
       "2 & mean & 0.996854 & 1.5758e-05 &  &  &  &  & No\\\\\n",
       "\\hline\n",
       "3 & $\\sigma$ & 0.00745299 & 1 &  &  &  &  & Yes\\\\\n",
       "\\hline\n",
       "\\end{tabular}\n",
       "</textarea>\n",
       "</pre>"
      ]
     },
     "metadata": {},
     "output_type": "display_data"
    },
    {
     "data": {
      "text/html": [
       "<hr>"
      ]
     },
     "metadata": {},
     "output_type": "display_data"
    },
    {
     "name": "stderr",
     "output_type": "stream",
     "text": [
      "/mnt/t3nfs01/data01/swshare/anaconda/lib/python2.7/site-packages/ipykernel/__main__.py:44: InitialParamWarning: Parameter alpha is floating but does not have initial step size. Assume 1.\n",
      "/mnt/t3nfs01/data01/swshare/anaconda/lib/python2.7/site-packages/ipykernel/__main__.py:44: InitialParamWarning: Parameter mean is floating but does not have initial step size. Assume 1.\n",
      "/mnt/t3nfs01/data01/swshare/anaconda/lib/python2.7/site-packages/ipykernel/__main__.py:45: LogWarning: x is really small return 0\n",
      "Exception ZeroDivisionError: 'float division' in 'probfit._libstat.xlogyx' ignored\n",
      "Exception ZeroDivisionError: 'float division' in 'probfit._libstat.xlogyx' ignored\n",
      "Exception ZeroDivisionError: 'float division' in 'probfit._libstat.xlogyx' ignored\n"
     ]
    },
    {
     "data": {
      "text/html": [
       "<hr>"
      ]
     },
     "metadata": {},
     "output_type": "display_data"
    },
    {
     "data": {
      "text/html": [
       "<table>\n",
       "    <tr>\n",
       "        <td title=\"Minimum value of function\">FCN = 38300.4828811</td>\n",
       "        <td title=\"Total number of call to FCN so far\">TOTAL NCALL = 35</td>\n",
       "        <td title=\"Number of call in last migrad\">NCALLS = 35</td>\n",
       "    </tr>\n",
       "    <tr>\n",
       "        <td title=\"Estimated distance to minimum\">EDM = 9.00772525298e-07</td>\n",
       "        <td title=\"Maximum EDM definition of convergence\">GOAL EDM = 5e-06</td>\n",
       "        <td title=\"Error def. Amount of increase in FCN to be defined as 1 standard deviation\">\n",
       "        UP = 0.5</td>\n",
       "    </tr>\n",
       "</table>\n",
       "<table>\n",
       "    <tr>\n",
       "        <td align=\"center\" title=\"Validity of the migrad call\">Valid</td>\n",
       "        <td align=\"center\" title=\"Validity of parameters\">Valid Param</td>\n",
       "        <td align=\"center\" title=\"Is Covariance matrix accurate?\">Accurate Covar</td>\n",
       "        <td align=\"center\" title=\"Positive definiteness of covariance matrix\">PosDef</td>\n",
       "        <td align=\"center\" title=\"Was covariance matrix made posdef by adding diagonal element\">Made PosDef</td>\n",
       "    </tr>\n",
       "    <tr>\n",
       "        <td align=\"center\" style=\"background-color:#92CCA6\">True</td>\n",
       "        <td align=\"center\" style=\"background-color:#92CCA6\">True</td>\n",
       "        <td align=\"center\" style=\"background-color:#92CCA6\">True</td>\n",
       "        <td align=\"center\" style=\"background-color:#92CCA6\">True</td>\n",
       "        <td align=\"center\" style=\"background-color:#92CCA6\">False</td>\n",
       "    </tr>\n",
       "    <tr>\n",
       "        <td align=\"center\" title=\"Was last hesse call fail?\">Hesse Fail</td>\n",
       "        <td align=\"center\" title=\"Validity of covariance\">HasCov</td>\n",
       "        <td align=\"center\" title=\"Is EDM above goal EDM?\">Above EDM</td>\n",
       "        <td align=\"center\"></td>\n",
       "        <td align=\"center\" title=\"Did last migrad call reach max call limit?\">Reach calllim</td>\n",
       "    </tr>\n",
       "    <tr>\n",
       "        <td align=\"center\" style=\"background-color:#92CCA6\">False</td>\n",
       "        <td align=\"center\" style=\"background-color:#92CCA6\">True</td>\n",
       "        <td align=\"center\" style=\"background-color:#92CCA6\">False</td>\n",
       "        <td align=\"center\"></td>\n",
       "        <td align=\"center\" style=\"background-color:#92CCA6\">False</td>\n",
       "    </tr>\n",
       "</table>"
      ]
     },
     "metadata": {},
     "output_type": "display_data"
    },
    {
     "data": {
      "text/html": [
       "<table>\n",
       "    <tr>\n",
       "        <td><a href=\"#\" onclick=\"$('#UDcBmgFcMA').toggle()\">+</a></td>\n",
       "        <td title=\"Variable name\">Name</td>\n",
       "        <td title=\"Value of parameter\">Value</td>\n",
       "        <td title=\"Hesse error\">Hesse Error</td>\n",
       "        <td title=\"Minos lower error\">Minos Error-</td>\n",
       "        <td title=\"Minos upper error\">Minos Error+</td>\n",
       "        <td title=\"Lower limit of the parameter\">Limit-</td>\n",
       "        <td title=\"Upper limit of the parameter\">Limit+</td>\n",
       "        <td title=\"Is the parameter fixed in the fit\">Fixed?</td>\n",
       "    </tr>\n",
       "    <tr>\n",
       "        <td>0</td>\n",
       "        <td>alpha</td>\n",
       "        <td>0.302965</td>\n",
       "        <td>0.000356905</td>\n",
       "        <td></td>\n",
       "        <td></td>\n",
       "        <td></td>\n",
       "        <td></td>\n",
       "        <td>No</td>\n",
       "    </tr>\n",
       "    <tr>\n",
       "        <td>1</td>\n",
       "        <td>n</td>\n",
       "        <td>20.4217</td>\n",
       "        <td>1</td>\n",
       "        <td></td>\n",
       "        <td></td>\n",
       "        <td></td>\n",
       "        <td></td>\n",
       "        <td>Yes</td>\n",
       "    </tr>\n",
       "    <tr>\n",
       "        <td>2</td>\n",
       "        <td>mean</td>\n",
       "        <td>0.996854</td>\n",
       "        <td>1.45429e-05</td>\n",
       "        <td></td>\n",
       "        <td></td>\n",
       "        <td></td>\n",
       "        <td></td>\n",
       "        <td>No</td>\n",
       "    </tr>\n",
       "    <tr>\n",
       "        <td>3</td>\n",
       "        <td>sigma</td>\n",
       "        <td>0.00745299</td>\n",
       "        <td>1</td>\n",
       "        <td></td>\n",
       "        <td></td>\n",
       "        <td></td>\n",
       "        <td></td>\n",
       "        <td>Yes</td>\n",
       "    </tr>\n",
       "</table>\n",
       "<pre id=\"UDcBmgFcMA\" style=\"display:none;\">\n",
       "<textarea rows=\"14\" cols=\"50\" onclick=\"this.select()\" readonly>\n",
       "\\begin{tabular}{|c|r|r|r|r|r|r|r|c|}\n",
       "\\hline\n",
       " & Name & Value & Hesse Error & Minos Error- & Minos Error+ & Limit- & Limit+ & Fixed?\\\\\n",
       "\\hline\n",
       "0 & $\\alpha$ & 0.302965 & 0.000356905 &  &  &  &  & No\\\\\n",
       "\\hline\n",
       "1 & n & 20.4217 & 1 &  &  &  &  & Yes\\\\\n",
       "\\hline\n",
       "2 & mean & 0.996854 & 1.45429e-05 &  &  &  &  & No\\\\\n",
       "\\hline\n",
       "3 & $\\sigma$ & 0.00745299 & 1 &  &  &  &  & Yes\\\\\n",
       "\\hline\n",
       "\\end{tabular}\n",
       "</textarea>\n",
       "</pre>"
      ]
     },
     "metadata": {},
     "output_type": "display_data"
    },
    {
     "data": {
      "text/html": [
       "<hr>"
      ]
     },
     "metadata": {},
     "output_type": "display_data"
    },
    {
     "name": "stderr",
     "output_type": "stream",
     "text": [
      "/mnt/t3nfs01/data01/swshare/anaconda/lib/python2.7/site-packages/ipykernel/__main__.py:49: InitialParamWarning: Parameter mean is floating but does not have initial step size. Assume 1.\n"
     ]
    },
    {
     "name": "stdout",
     "output_type": "stream",
     "text": [
      "errorp:[ 19.02629759  18.68154169  19.20937271  20.0748599   19.18332609\n",
      "  20.5669638   21.07130751  21.65640783  20.78460969  21.54065923\n",
      "  21.51743479  24.0208243   24.0208243   23.28089345  23.64318084\n",
      "  24.39262184  24.51530134  25.88435821  26.32489316  26.70205985\n",
      "  26.66458325  28.24889378  28.72281323  28.74021573  30.49590136\n",
      "  30.43024811  31.81194744  31.93743885  33.2565783   33.85262176\n",
      "  34.          35.0142828   35.94440151  36.57868232  38.71692137\n",
      "  38.4317577   40.70626487  41.43669871  43.4281015   43.87482194\n",
      "  45.77116997  46.95742753  48.61069841  50.44799302  53.1130869\n",
      "  53.80520421  54.92722458  57.87918451  60.56401572  61.18006211\n",
      "  64.68384652  66.96267617  69.69218034  72.05553414  73.85797181\n",
      "  78.8289287   79.59271323  83.24061509  85.56868586  88.92131353\n",
      "  91.91300234  95.6765384  101.05938848 104.01922899 108.75201148\n",
      " 111.37773566 116.06032914 120.73110618 124.64349161 129.34450124\n",
      " 133.13902508 138.90284374 144.61673485 150.67514725 157.34357311\n",
      " 164.39282223 173.01734017 181.71681265 190.5413341  201.10942295\n",
      " 210.68222516 219.2966028  228.35060762 236.08473055 241.31929057\n",
      " 241.66919539 235.37841872 223.29576798 212.28989613 196.81209312\n",
      " 178.6421003  158.76712506 139.83919336 119.02940813 100.78194283\n",
      "  83.46256646  70.27090436  59.38013136  51.14684741  44.36214603\n",
      "  37.8153408   32.57299495  29.71531592  25.23885893  22.36067977\n",
      "  19.74841766  17.8325545   15.          12.36931688  11.95826074\n",
      "   9.64365076   8.1240384    8.1240384    7.34846923   7.54983444\n",
      "   5.65685425   5.29150262   3.60555128   3.31662479   2.44948974\n",
      "   2.23606798   2.           2.23606798   1.41421356   0.\n",
      "   1.           0.           1.           1.           0.\n",
      "   0.           0.           0.           0.           0.\n",
      "   0.           0.           0.           0.           1.\n",
      "   0.           0.           0.           0.           0.\n",
      "   0.           0.           0.           0.           0.\n",
      "   0.           0.           0.           0.           0.\n",
      "   0.           0.           1.           0.           0.\n",
      "   1.41421356   0.           0.           0.           0.\n",
      "   0.           0.           0.           0.           0.\n",
      "   0.           0.           0.           0.           0.\n",
      "   1.           0.           0.           0.           0.\n",
      "   0.           0.           0.           0.           0.\n",
      "   0.           0.           0.           0.           1.\n",
      "   0.           0.           0.           0.           0.\n",
      "   0.           0.           0.           0.           1.        ]\n",
      "errorm:[ 19.02629759  18.68154169  19.20937271  20.0748599   19.18332609\n",
      "  20.5669638   21.07130751  21.65640783  20.78460969  21.54065923\n",
      "  21.51743479  24.0208243   24.0208243   23.28089345  23.64318084\n",
      "  24.39262184  24.51530134  25.88435821  26.32489316  26.70205985\n",
      "  26.66458325  28.24889378  28.72281323  28.74021573  30.49590136\n",
      "  30.43024811  31.81194744  31.93743885  33.2565783   33.85262176\n",
      "  34.          35.0142828   35.94440151  36.57868232  38.71692137\n",
      "  38.4317577   40.70626487  41.43669871  43.4281015   43.87482194\n",
      "  45.77116997  46.95742753  48.61069841  50.44799302  53.1130869\n",
      "  53.80520421  54.92722458  57.87918451  60.56401572  61.18006211\n",
      "  64.68384652  66.96267617  69.69218034  72.05553414  73.85797181\n",
      "  78.8289287   79.59271323  83.24061509  85.56868586  88.92131353\n",
      "  91.91300234  95.6765384  101.05938848 104.01922899 108.75201148\n",
      " 111.37773566 116.06032914 120.73110618 124.64349161 129.34450124\n",
      " 133.13902508 138.90284374 144.61673485 150.67514725 157.34357311\n",
      " 164.39282223 173.01734017 181.71681265 190.5413341  201.10942295\n",
      " 210.68222516 219.2966028  228.35060762 236.08473055 241.31929057\n",
      " 241.66919539 235.37841872 223.29576798 212.28989613 196.81209312\n",
      " 178.6421003  158.76712506 139.83919336 119.02940813 100.78194283\n",
      "  83.46256646  70.27090436  59.38013136  51.14684741  44.36214603\n",
      "  37.8153408   32.57299495  29.71531592  25.23885893  22.36067977\n",
      "  19.74841766  17.8325545   15.          12.36931688  11.95826074\n",
      "   9.64365076   8.1240384    8.1240384    7.34846923   7.54983444\n",
      "   5.65685425   5.29150262   3.60555128   3.31662479   2.44948974\n",
      "   2.23606798   2.           2.23606798   1.41421356   0.\n",
      "   1.           0.           1.           1.           0.\n",
      "   0.           0.           0.           0.           0.\n",
      "   0.           0.           0.           0.           1.\n",
      "   0.           0.           0.           0.           0.\n",
      "   0.           0.           0.           0.           0.\n",
      "   0.           0.           0.           0.           0.\n",
      "   0.           0.           1.           0.           0.\n",
      "   1.41421356   0.           0.           0.           0.\n",
      "   0.           0.           0.           0.           0.\n",
      "   0.           0.           0.           0.           0.\n",
      "   1.           0.           0.           0.           0.\n",
      "   0.           0.           0.           0.           0.\n",
      "   0.           0.           0.           0.           1.\n",
      "   0.           0.           0.           0.           0.\n",
      "   0.           0.           0.           0.           1.        ]\n"
     ]
    },
    {
     "data": {
      "image/png": "[encoded data removed]",
      "text/plain": [
       "<matplotlib.figure.Figure at 0x7fcc72aa7c10>"
      ]
     },
     "metadata": {},
     "output_type": "display_data"
    },
    {
     "data": {
      "image/png": "[encoded data removed]",
      "text/plain": [
       "<matplotlib.figure.Figure at 0x7fcc72a84610>"
      ]
     },
     "metadata": {},
     "output_type": "display_data"
    }
   ],
   "source": [
    "#for original_df in [original_df1,original_df_EE]:\n",
    "\n",
    "    #if k==0:\n",
    "      #  suffix='NN'\n",
    "        #k+=1\n",
    "   # else:\n",
    "     #   suffix='NN_EE'\n",
    "    \n",
    "\n",
    "fit_upper=1.1\n",
    "fit_lower=0.9\n",
    "for i in xrange(0,len(bins)-1):\n",
    "        df_temp=df[df[column] >=bins[i]]\n",
    "        df_temp=df_temp[df_temp[column]<=bins[i+1]]\n",
    "        bound = (fit_lower, fit_upper)\n",
    "        bound_fit=(0.98,1.01)\n",
    "            \n",
    "        ax=plt.subplot2grid((6,3),(0,0), rowspan=4,colspan=4)    \n",
    "        data=df_temp.loc[:,'response'].astype(float).values\n",
    "        data_gaussian=df_temp[(df_temp['response']>bound_fit[0] )&\n",
    "                              (df_temp['response']<bound_fit[1])].loc[:,'response'].astype(float).values\n",
    "        mu,sigma=norm.fit(data_gaussian)\n",
    "        print(mu,sigma)\n",
    "        gauss(data_gaussian,np.min(data_gaussian),np.max(data_gaussian),mu, sigma)\n",
    "        normalized_crystalball = probfit.Normalized(probfit.crystalball, bound)\n",
    "        binned_likelihood = probfit.BinnedLH(normalized_crystalball, data,bins=200)\n",
    "        \n",
    "        \n",
    "        \n",
    "         \n",
    "        minuit = iminuit.Minuit(binned_likelihood, alpha=.5, error_alpha=0.05,\n",
    "                                limit_alpha=(0.3,0.9),n=3.,error_n=0.1, mean=mu,error_mean=0.01,\n",
    "                                limit_mean=(0.9,1.05),  sigma=sigma, fix_sigma=True,fix_mean=True,fix_n=True,limit_sigma=(0.001,0.091))\n",
    "        minuit.migrad()\n",
    "        \n",
    "        coeff=minuit.args\n",
    "        minuit = iminuit.Minuit(binned_likelihood,alpha=coeff[0],n=coeff[1],mean=coeff[2],sigma=coeff[3]\n",
    "                                ,fix_sigma=True)\n",
    "        minuit.migrad()         \n",
    "        coeff=minuit.args\n",
    "        \n",
    "        \n",
    "        minuit = iminuit.Minuit(binned_likelihood,alpha=coeff[0],n=coeff[1],mean=coeff[2],sigma=coeff[3],\n",
    "                                fix_sigma=True,fix_n=True,)\n",
    "        minuit.migrad() \n",
    "        coeff=minuit.args\n",
    "        \n",
    "        minuit = iminuit.Minuit(binned_likelihood,alpha=coeff[0],n=coeff[1],mean=coeff[2],sigma=coeff[3],\n",
    "                               fix_sigma=True,fix_n=True,fix_alpha=True)\n",
    "\n",
    "\n",
    "        \n",
    "\n",
    "\n",
    "\n",
    "\n",
    "        plt.title(\"hist $response$ for ${}$ in {} to {}\".format(column,int(10*bins[i])/10.,int(10*bins[i+1])/10.))\n",
    "        \n",
    "        (data_edges, datay), (errorp, errorm), (total_pdf_x, total_pdf_y),parts=binned_likelihood.draw(\n",
    "        parmloc=((0.7,0.95)),nfbins=201)\n",
    "        print(\"errorp:{}\".format(errorp))\n",
    "        print(\"errorm:{}\".format(errorm))\n",
    "        binned_likelihood.show()\n",
    "        coeff=minuit.args\n",
    "        y_plot.append(coeff[2])\n",
    "        x_plot.append(df_temp[column].values[np.argmin(df_temp['response'].values-coeff[2])])\n",
    "        y_err_fit.append(minuit.errors[2])\n",
    "        y_err_sigma.append(coeff[3])\n",
    "        \n",
    "\n",
    "        plt.subplot2grid((5,3),(4,0),rowspan=2,colspan=4).set_yticks([0.8,1])\n",
    "        ratio=datay/total_pdf_y\n",
    "        plt.ylim(0.8,1.2)\n",
    "        plt.plot((data_edges[1:]+data_edges[:-1])/2,ratio,'bo')\n",
    "        #unbinned_likelihood.draw_residual(minuit,parmloc=(0.7,0.95))\n",
    "        plt.ylabel(r\"$ratio$\")\n",
    "        plt.xlabel(\"response\")\n",
    "        \n",
    "\n",
    "        #plt.savefig(\"plots/CB_{}/{}_{}\".format(column,suffix,i)) \n",
    "        plt.show()\n",
    "        break\n"
   ]
  },
  {
   "cell_type": "code",
   "execution_count": 92,
   "metadata": {
    "collapsed": false
   },
   "outputs": [
    {
     "data": {
      "image/png": "[encoded data removed]",
      "text/plain": [
       "<matplotlib.figure.Figure at 0x7fcc74e42f10>"
      ]
     },
     "metadata": {},
     "output_type": "display_data"
    },
    {
     "data": {
      "image/png": "[encoded data removed]",
      "text/plain": [
       "<matplotlib.figure.Figure at 0x7fcc5b44f5d0>"
      ]
     },
     "metadata": {},
     "output_type": "display_data"
    }
   ],
   "source": [
    "suffix='NN'\n",
    "plt.figure()\n",
    "plt.title(\"Profile $response$ vs ${}$, Fit error\".format(column))\n",
    "plt.ylabel(r\"$response$\")\n",
    "plt.xlabel(r\"${}$\".format(column))\n",
    "plt.errorbar(x_plot,y_plot,y_err_fit,fmt='b.')\n",
    "plt.savefig(\"plots/profile_plots_response/Fit_Error_{}response_vs_{}\".format(suffix,column))\n",
    "plt.show()\n",
    "plt.close()\n",
    "plt.figure()\n",
    "plt.title(\"Profile $response$ vs ${}$, Sigma error\".format(column))\n",
    "plt.ylabel(r\"$response$\")\n",
    "plt.xlabel(r\"${}$\".format(column))\n",
    "plt.errorbar(x_plot,y_plot,y_err_sigma,fmt='b.')\n",
    "plt.savefig(\"plots/profile_plots_response/Sigma_Error_{}response_vs_{}\".format(suffix,column))\n",
    "plt.show()\n",
    "plt.close()"
   ]
  },
  {
   "cell_type": "code",
   "execution_count": null,
   "metadata": {
    "collapsed": true
   },
   "outputs": [],
   "source": []
  }
 ],
 "metadata": {
  "anaconda-cloud": {},
  "kernelspec": {
   "display_name": "Python [conda root]",
   "language": "python",
   "name": "conda-root-py"
  },
  "language_info": {
   "codemirror_mode": {
    "name": "ipython",
    "version": 2
   },
   "file_extension": ".py",
   "mimetype": "text/x-python",
   "name": "python",
   "nbconvert_exporter": "python",
   "pygments_lexer": "ipython2",
   "version": "2.7.12"
  }
 },
 "nbformat": 4,
 "nbformat_minor": 1
}

{
 "cells": [
  {
   "cell_type": "code",
   "execution_count": 1,
   "metadata": {
    "collapsed": false,
    "scrolled": true
   },
   "outputs": [
    {
     "name": "stdout",
     "output_type": "stream",
     "text": [
      "ay\n"
     ]
    }
   ],
   "source": [
    "print(\"ay\")\n",
    "import numpy as np\n",
    "import sklearn\n",
    "import pandas as pd\n",
    "import matplotlib.pyplot as plt\n",
    "import datetime\n",
    "from scipy.stats import norm\n",
    "import probfit\n",
    "import iminuit\n",
    "import matplotlib.mlab as mlab\n",
    "from scipy.optimize import curve_fit\n",
    "from numpy import random, exp\n",
    "from scipy.stats import crystalball\n",
    "from pylab import *\n",
    "from scipy.special import erf\n",
    "from scipy.stats import norm\n",
    "from scipy.optimize import leastsq"
   ]
  },
  {
   "cell_type": "code",
   "execution_count": 2,
   "metadata": {
    "collapsed": false
   },
   "outputs": [
    {
     "name": "stdout",
     "output_type": "stream",
     "text": [
      "Opening /mnt/t3nfs01/data01/shome/micheli/energyRegProject_20180223/CMSSW_8_0_4/src/RegressionTraining/applyRegression/ntuples_NN/Ntup_10Nov_Photon_testing.hd5 in read-only mode\n",
      "finished\n"
     ]
    }
   ],
   "source": [
    "original_df1=pd.read_hdf(\"/mnt/t3nfs01/data01/shome/micheli/energyRegProject_20180223/CMSSW_8_0_4/src/RegressionTraining/applyRegression/ntuples_NN/Ntup_10Nov_Photon_testing.hd5\")\n",
    "#original_df_EE=pd.read_hdf(\"/mnt/t3nfs01/data01/shome/micheli/energyRegProject_20180223/CMSSW_8_0_4/src/RegressionTraining/applyRegression/ntuples_NN_EE/Ntup_10Nov_Photon_testing_EE.hd5\")\n",
    "print(\"finished\")"
   ]
  },
  {
   "cell_type": "code",
   "execution_count": null,
   "metadata": {
    "collapsed": false,
    "scrolled": true
   },
   "outputs": [
    {
     "name": "stdout",
     "output_type": "stream",
     "text": [
      "0\n"
     ]
    }
   ],
   "source": [
    "#todo: Add errors in histogramm and ratio sqrt(entries)\n",
    "k=0\n",
    "#for original_df in [original_df1,original_df_EE]:\n",
    "for df in [original_df1,]:#original_df_EE\n",
    "\n",
    "    if k==0:\n",
    "        suffix='NN'\n",
    "        k+=1\n",
    "    else:\n",
    "        suffix='NN_EE'\n",
    "    for column in ['pt','scEta','rhoValue']: \n",
    "        df=original_df1.copy()\n",
    "        df=df[df['response']>.95]\n",
    "        df=df[df['response']<1.02]\n",
    "\n",
    "        df=df[np.abs(df[column]-df[column].median()) <= (2*df[column].std())]#outlier detection\n",
    "\n",
    "        df.loc[:,'response']=np.reciprocal(df.loc[:,'response'].values) #invert response\n",
    "\n",
    "        x_plot=[]\n",
    "        y_plot=[]\n",
    "        y_err=[]\n",
    "        y_err_fit=[]\n",
    "        y_err_sigma=[]\n",
    "        notused,bins=pd.cut(df[column],20,retbins=True) #equidistant bins \n",
    "        for i in xrange(0,len(bins)-1):\n",
    "            print(i)\n",
    "            df_temp=df[df[column] >=bins[i]]\n",
    "            df_temp=df_temp[df_temp[column]<=bins[i+1]]\n",
    "            if df_temp.size==0:\n",
    "                print i\n",
    "                print \"empty\"\n",
    "                continue\n",
    "\n",
    "            ax=plt.subplot2grid((6,3),(0,0), rowspan=4,colspan=4)    \n",
    "            bound = (.95, 1.03)\n",
    "            data=df_temp.loc[:,'response'].values\n",
    "            print \"slow=\"\n",
    "            normalized_crystalball = probfit.Normalized(probfit.crystalball, bound)\n",
    "            print \"1\"\n",
    "            unbinned_likelihood = probfit.UnbinnedLH(normalized_crystalball, data)\n",
    "            \n",
    "            #\n",
    "            #best_try = probfit.try_uml(normalized_crystalball, data, **params)\n",
    "            print(\"this\")\n",
    "            minuit = iminuit.Minuit(unbinned_likelihood,pedantic=False, alpha=.5,limit_alpha=(0.5,0.7),n=3., mean=1.01,limit_mean=(0.99,1.02),sigma=0.01,limit_sigma=(0.001,0.011))\n",
    "            print(\"that\")\n",
    "            minuit.migrad()\n",
    "            print \"fuk\"\n",
    "\n",
    "            coeff=minuit.args\n",
    "\n",
    "\n",
    "            y_plot.append(coeff[2])\n",
    "            x_plot.append(df_temp[column].values[np.argmin(df_temp['response'].values-coeff[2])])\n",
    "            y_err_fit.append(minuit.errors[2])\n",
    "            y_err_sigma.append(coeff[3])\n",
    "            (data_edges, datay), (errorp, errorm), (total_pdf_x, total_pdf_y),parts=unbinned_likelihood.draw(minuit,nfbins=100,parmloc=((0.7,0.95)))\n",
    "\n",
    "            plt.title(\"hist $response$ for ${}$ in {} to {}\".format(column,int(10*bins[i])/10.,int(10*bins[i+1])/10.))\n",
    "            plt.subplot2grid((5,3),(4,0),rowspan=2,colspan=4).set_yticks([0.8,1])\n",
    "            ratio=datay/total_pdf_y\n",
    "            plt.ylim(0.8,1.2)\n",
    "            plt.plot((data_edges[1:]+data_edges[:-1])/2,ratio,'bo')\n",
    "            #unbinned_likelihood.draw_residual(minuit,parmloc=(0.7,0.95))\n",
    "            plt.ylabel(r\"$ratio$\")\n",
    "            plt.xlabel(\"response\")\n",
    "            plt.savefig(\"plots/CB_{}/{}_{}\".format(column,suffix,i)) \n",
    "            plt.show()\n",
    "            #minuit = iminuit.Minuit(unbinned_likelihood, **best_try)\n",
    "            #unbinned_likelihood.show(minuit)\n",
    "\n",
    "\n",
    "        plt.figure()\n",
    "        plt.title(\"Profile $response$ vs ${}$, Fit error\".format(column))\n",
    "        plt.ylabel(r\"$response$\")\n",
    "        plt.xlabel(r\"${}$\".format(column))\n",
    "        plt.errorbar(x_plot,y_plot,y_err_fit,fmt='b.')\n",
    "        plt.savefig(\"plots/profile_plots_response/Fit_Error_{_}response_vs_{}\".format(suffix,column))\n",
    "        plt.show()\n",
    "        plt.close()\n",
    "        plt.figure()\n",
    "        plt.title(\"Profile $response$ vs ${}$, Sigma error\".format(column))\n",
    "        plt.ylabel(r\"$response$\")\n",
    "        plt.xlabel(r\"${}$\".format(column))\n",
    "        plt.errorbar(x_plot,y_plot,y_err_fit,fmt='b.')\n",
    "        plt.savefig(\"plots/profile_plots_response/Sigma_Error_{_}response_vs_{}\".format(suffix,column))\n",
    "        plt.show()\n",
    "        plt.close()\n"
   ]
  },
  {
   "cell_type": "code",
   "execution_count": 10,
   "metadata": {
    "collapsed": false
   },
   "outputs": [],
   "source": []
  },
  {
   "cell_type": "code",
   "execution_count": null,
   "metadata": {
    "collapsed": false
   },
   "outputs": [],
   "source": [
    "unbinned_likelihood.draw_residual()\n",
    "unbinned_likelihood.show()"
   ]
  }
 ],
 "metadata": {
  "anaconda-cloud": {},
  "kernelspec": {
   "display_name": "Python [conda root]",
   "language": "python",
   "name": "conda-root-py"
  },
  "language_info": {
   "codemirror_mode": {
    "name": "ipython",
    "version": 2
   },
   "file_extension": ".py",
   "mimetype": "text/x-python",
   "name": "python",
   "nbconvert_exporter": "python",
   "pygments_lexer": "ipython2",
   "version": "2.7.12"
  }
 },
 "nbformat": 4,
 "nbformat_minor": 1
}
